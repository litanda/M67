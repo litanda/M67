{
 "cells": [
  {
   "cell_type": "markdown",
   "metadata": {},
   "source": [
    "# This notebook is to model the Sun plus subgiant and red-giant stars in M67."
   ]
  },
  {
   "cell_type": "code",
   "execution_count": 1,
   "metadata": {},
   "outputs": [],
   "source": [
    "import numpy as np\n",
    "import seaborn as sns\n",
    "import pandas as pd\n",
    "import glob\n",
    "from scipy.optimize import curve_fit\n",
    "import re\n",
    "import math\n",
    "import os\n",
    "import matplotlib.pyplot #\n",
    "from astropy.io import ascii\n",
    "\n",
    "# The lines below are specific to the notebook format\n",
    "%matplotlib inline\n",
    "params = {'legend.fontsize': 'x-large',\n",
    "          'figure.figsize': (6, 5),\n",
    "         'axes.labelsize': 'x-large',\n",
    "         'axes.titlesize':'x-large',\n",
    "         'xtick.labelsize':'x-large',\n",
    "         'ytick.labelsize':'x-large'}\n",
    "matplotlib.rcParams.update(params)\n",
    "plt = matplotlib.pyplot\n"
   ]
  },
  {
   "cell_type": "code",
   "execution_count": 17,
   "metadata": {},
   "outputs": [
    {
     "data": {
      "text/html": [
       "<div>\n",
       "<style scoped>\n",
       "    .dataframe tbody tr th:only-of-type {\n",
       "        vertical-align: middle;\n",
       "    }\n",
       "\n",
       "    .dataframe tbody tr th {\n",
       "        vertical-align: top;\n",
       "    }\n",
       "\n",
       "    .dataframe thead th {\n",
       "        text-align: right;\n",
       "    }\n",
       "</style>\n",
       "<table border=\"1\" class=\"dataframe\">\n",
       "  <thead>\n",
       "    <tr style=\"text-align: right;\">\n",
       "      <th></th>\n",
       "      <th>K2id</th>\n",
       "      <th>type</th>\n",
       "      <th>obs_l</th>\n",
       "      <th>obs_nu</th>\n",
       "      <th>obs_nu_e</th>\n",
       "    </tr>\n",
       "  </thead>\n",
       "  <tbody>\n",
       "    <tr>\n",
       "      <th>0</th>\n",
       "      <td>211411922</td>\n",
       "      <td>sg</td>\n",
       "      <td>0</td>\n",
       "      <td>504.37</td>\n",
       "      <td>0.08</td>\n",
       "    </tr>\n",
       "    <tr>\n",
       "      <th>1</th>\n",
       "      <td>211411922</td>\n",
       "      <td>sg</td>\n",
       "      <td>1</td>\n",
       "      <td>515.41</td>\n",
       "      <td>0.21</td>\n",
       "    </tr>\n",
       "    <tr>\n",
       "      <th>2</th>\n",
       "      <td>211411922</td>\n",
       "      <td>sg</td>\n",
       "      <td>1</td>\n",
       "      <td>524.95</td>\n",
       "      <td>0.14</td>\n",
       "    </tr>\n",
       "    <tr>\n",
       "      <th>3</th>\n",
       "      <td>211411922</td>\n",
       "      <td>sg</td>\n",
       "      <td>0</td>\n",
       "      <td>539.09</td>\n",
       "      <td>0.06</td>\n",
       "    </tr>\n",
       "    <tr>\n",
       "      <th>4</th>\n",
       "      <td>211411922</td>\n",
       "      <td>sg</td>\n",
       "      <td>1</td>\n",
       "      <td>556.42</td>\n",
       "      <td>0.16</td>\n",
       "    </tr>\n",
       "  </tbody>\n",
       "</table>\n",
       "</div>"
      ],
      "text/plain": [
       "        K2id type  obs_l  obs_nu  obs_nu_e\n",
       "0  211411922   sg      0  504.37      0.08\n",
       "1  211411922   sg      1  515.41      0.21\n",
       "2  211411922   sg      1  524.95      0.14\n",
       "3  211411922   sg      0  539.09      0.06\n",
       "4  211411922   sg      1  556.42      0.16"
      ]
     },
     "execution_count": 17,
     "metadata": {},
     "output_type": "execute_result"
    }
   ],
   "source": [
    "dr = '/Users/litz/Documents/GitHub/M67/M67_sg_age/'\n",
    "datadr = '/Users/litz/Documents/GitHub/data/kepler-sg-grid/'\n",
    "filename = dr + 'peakbagging.csv'\n",
    "df = pd.read_csv(filename)\n",
    "df.head()"
   ]
  },
  {
   "cell_type": "code",
   "execution_count": 18,
   "metadata": {},
   "outputs": [],
   "source": [
    "#\n",
    "#  Sun as a star&3090&134.9&5777(40)&4.44(0.05)&0.00\\\\\n",
    "#  K2-211411922&559.1(66.4)& 36.34(0.24)&5233.9(40)&3.743(0.05)&-0.039(0.007)\\\\\n",
    "#  K2-211409560&272.2(1.7)&19.10(0.07)& 5030.3(40)& 3.556(0.05)&0.064(0.002)\\\\\n",
    "#  K2-211416749&234.3(1.3)&16.76(0.05)& 5027.8(40)&3.436(0.05)&0.055(0.004)\\\\"
   ]
  },
  {
   "cell_type": "code",
   "execution_count": 51,
   "metadata": {},
   "outputs": [
    {
     "name": "stdout",
     "output_type": "stream",
     "text": [
      "[13.87919648 14.8346175  15.81012658 16.81590534]\n",
      "[504.37 539.09 574.54 611.09]\n"
     ]
    },
    {
     "data": {
      "image/png": "[encoded data removed]",
      "text/plain": [
       "<Figure size 432x360 with 2 Axes>"
      ]
     },
     "metadata": {
      "needs_background": "light"
     },
     "output_type": "display_data"
    }
   ],
   "source": [
    "K2id = 211411922\n",
    "#seismology\n",
    "obs_numax = 559.1\n",
    "obs_numax_e = 66.4\n",
    "obs_deltanu = 36.34\n",
    "obs_deltanu_e = 0.24\n",
    "#spectroscopy\n",
    "obs_teff = 5233.9\n",
    "obs_teff_e = 40.0\n",
    "obs_logg = 3.743\n",
    "obs_logg_e = 0.05\n",
    "obs_feh = -0.04\n",
    "obs_feh_e = 0.007\n",
    "\n",
    "\n",
    "\n",
    "obs_nu0 = df['obs_nu'][(df['K2id'] == K2id) & (df['obs_l'] == 0)].to_numpy()\n",
    "obs_nu0_e = df['obs_nu_e'][(df['K2id'] == K2id) & (df['obs_l'] == 0)].to_numpy()\n",
    "n0 = obs_nu0/obs_deltanu\n",
    "print(n0)\n",
    "print(obs_nu0)\n",
    "\n",
    "obs_nu1 = df['obs_nu'][(df['K2id'] == K2id) & (df['obs_l'] == 1)].to_numpy()\n",
    "obs_nu1_e = df['obs_nu_e'][(df['K2id'] == K2id) & (df['obs_l'] == 1)].to_numpy()\n",
    "\n",
    "obs_nu2 = df['obs_nu'][(df['K2id'] == K2id) & (df['obs_l'] == 2)].to_numpy()\n",
    "obs_nu2_e = df['obs_nu_e'][(df['K2id'] == K2id) & (df['obs_l'] == 2)].to_numpy()\n",
    "\n",
    "obs_nu = np.concatenate((obs_nu0, obs_nu1, obs_nu2))\n",
    "obs_nu_e = np.concatenate((obs_nu0_e, obs_nu1_e, obs_nu2_e))\n",
    "\n",
    "cp = plt.scatter((obs_nu % obs_deltanu), obs_nu, c = obs_nu_e, marker='o')\n",
    "plt.title('K2-' + str(K2id))\n",
    "plt.xlim([0.0, obs_deltanu])\n",
    "plt.xlabel(r'$\\nu$ mod $\\Delta\\nu$ ($\\mu$Hz)')\n",
    "plt.ylabel(r'$\\nu$ ($\\mu$Hz)')\n",
    "cc = plt.colorbar(cp)\n",
    "cc.set_label(r'$\\sigma_{obs}$')\n",
    "\n"
   ]
  },
  {
   "cell_type": "markdown",
   "metadata": {},
   "source": [
    "# Echelle diagram of the star. Colorcode indicates observed frequency uncertainties. "
   ]
  },
  {
   "cell_type": "code",
   "execution_count": 23,
   "metadata": {},
   "outputs": [],
   "source": [
    "#fehs = ['m20/','m15/','m10/','m05/','p00/','p05/','p10/','p15/','p20/','p25/']\n",
    "fehs = ['p00/']\n",
    "masses = ['m1.0*/','m1.1*/','m1.2*/']"
   ]
  },
  {
   "cell_type": "code",
   "execution_count": 24,
   "metadata": {},
   "outputs": [],
   "source": [
    "allfiles = []\n",
    "mms = []\n",
    "zx = []\n",
    "for feh in fehs:\n",
    "    for mass in masses: \n",
    "        folder = feh + mass\n",
    "        ff = glob.glob(datadr + folder)\n",
    "        files = glob.glob(datadr + folder + \"*.osc\")\n",
    "        allfiles = allfiles + files\n",
    "        zx = zx + [feh]*len(files)"
   ]
  },
  {
   "cell_type": "code",
   "execution_count": 25,
   "metadata": {},
   "outputs": [
    {
     "data": {
      "text/html": [
       "<div>\n",
       "<style scoped>\n",
       "    .dataframe tbody tr th:only-of-type {\n",
       "        vertical-align: middle;\n",
       "    }\n",
       "\n",
       "    .dataframe tbody tr th {\n",
       "        vertical-align: top;\n",
       "    }\n",
       "\n",
       "    .dataframe thead th {\n",
       "        text-align: right;\n",
       "    }\n",
       "</style>\n",
       "<table border=\"1\" class=\"dataframe\">\n",
       "  <thead>\n",
       "    <tr style=\"text-align: right;\">\n",
       "      <th></th>\n",
       "      <th>filename</th>\n",
       "      <th>mass</th>\n",
       "      <th>feh</th>\n",
       "      <th>delta_nu</th>\n",
       "      <th>surf_a</th>\n",
       "      <th>surf_b</th>\n",
       "      <th>sc_method</th>\n",
       "      <th>lk_0</th>\n",
       "      <th>lk_1</th>\n",
       "      <th>lk_2</th>\n",
       "      <th>lkall</th>\n",
       "      <th>wlkall</th>\n",
       "    </tr>\n",
       "  </thead>\n",
       "  <tbody>\n",
       "    <tr>\n",
       "      <th>0</th>\n",
       "      <td>/Users/litz/Documents/GitHub/data/kepler-sg-gr...</td>\n",
       "      <td>1.09</td>\n",
       "      <td>p00/</td>\n",
       "      <td>-999.0</td>\n",
       "      <td>-999.0</td>\n",
       "      <td>-999.0</td>\n",
       "      <td>N/A</td>\n",
       "      <td>-999.0</td>\n",
       "      <td>-999.0</td>\n",
       "      <td>-999.0</td>\n",
       "      <td>-999.0</td>\n",
       "      <td>-999.0</td>\n",
       "    </tr>\n",
       "    <tr>\n",
       "      <th>1</th>\n",
       "      <td>/Users/litz/Documents/GitHub/data/kepler-sg-gr...</td>\n",
       "      <td>1.09</td>\n",
       "      <td>p00/</td>\n",
       "      <td>-999.0</td>\n",
       "      <td>-999.0</td>\n",
       "      <td>-999.0</td>\n",
       "      <td>N/A</td>\n",
       "      <td>-999.0</td>\n",
       "      <td>-999.0</td>\n",
       "      <td>-999.0</td>\n",
       "      <td>-999.0</td>\n",
       "      <td>-999.0</td>\n",
       "    </tr>\n",
       "    <tr>\n",
       "      <th>2</th>\n",
       "      <td>/Users/litz/Documents/GitHub/data/kepler-sg-gr...</td>\n",
       "      <td>1.09</td>\n",
       "      <td>p00/</td>\n",
       "      <td>-999.0</td>\n",
       "      <td>-999.0</td>\n",
       "      <td>-999.0</td>\n",
       "      <td>N/A</td>\n",
       "      <td>-999.0</td>\n",
       "      <td>-999.0</td>\n",
       "      <td>-999.0</td>\n",
       "      <td>-999.0</td>\n",
       "      <td>-999.0</td>\n",
       "    </tr>\n",
       "    <tr>\n",
       "      <th>3</th>\n",
       "      <td>/Users/litz/Documents/GitHub/data/kepler-sg-gr...</td>\n",
       "      <td>1.09</td>\n",
       "      <td>p00/</td>\n",
       "      <td>-999.0</td>\n",
       "      <td>-999.0</td>\n",
       "      <td>-999.0</td>\n",
       "      <td>N/A</td>\n",
       "      <td>-999.0</td>\n",
       "      <td>-999.0</td>\n",
       "      <td>-999.0</td>\n",
       "      <td>-999.0</td>\n",
       "      <td>-999.0</td>\n",
       "    </tr>\n",
       "    <tr>\n",
       "      <th>4</th>\n",
       "      <td>/Users/litz/Documents/GitHub/data/kepler-sg-gr...</td>\n",
       "      <td>1.09</td>\n",
       "      <td>p00/</td>\n",
       "      <td>-999.0</td>\n",
       "      <td>-999.0</td>\n",
       "      <td>-999.0</td>\n",
       "      <td>N/A</td>\n",
       "      <td>-999.0</td>\n",
       "      <td>-999.0</td>\n",
       "      <td>-999.0</td>\n",
       "      <td>-999.0</td>\n",
       "      <td>-999.0</td>\n",
       "    </tr>\n",
       "    <tr>\n",
       "      <th>...</th>\n",
       "      <td>...</td>\n",
       "      <td>...</td>\n",
       "      <td>...</td>\n",
       "      <td>...</td>\n",
       "      <td>...</td>\n",
       "      <td>...</td>\n",
       "      <td>...</td>\n",
       "      <td>...</td>\n",
       "      <td>...</td>\n",
       "      <td>...</td>\n",
       "      <td>...</td>\n",
       "      <td>...</td>\n",
       "    </tr>\n",
       "    <tr>\n",
       "      <th>26988</th>\n",
       "      <td>/Users/litz/Documents/GitHub/data/kepler-sg-gr...</td>\n",
       "      <td>1.28</td>\n",
       "      <td>p00/</td>\n",
       "      <td>-999.0</td>\n",
       "      <td>-999.0</td>\n",
       "      <td>-999.0</td>\n",
       "      <td>N/A</td>\n",
       "      <td>-999.0</td>\n",
       "      <td>-999.0</td>\n",
       "      <td>-999.0</td>\n",
       "      <td>-999.0</td>\n",
       "      <td>-999.0</td>\n",
       "    </tr>\n",
       "    <tr>\n",
       "      <th>26989</th>\n",
       "      <td>/Users/litz/Documents/GitHub/data/kepler-sg-gr...</td>\n",
       "      <td>1.28</td>\n",
       "      <td>p00/</td>\n",
       "      <td>-999.0</td>\n",
       "      <td>-999.0</td>\n",
       "      <td>-999.0</td>\n",
       "      <td>N/A</td>\n",
       "      <td>-999.0</td>\n",
       "      <td>-999.0</td>\n",
       "      <td>-999.0</td>\n",
       "      <td>-999.0</td>\n",
       "      <td>-999.0</td>\n",
       "    </tr>\n",
       "    <tr>\n",
       "      <th>26990</th>\n",
       "      <td>/Users/litz/Documents/GitHub/data/kepler-sg-gr...</td>\n",
       "      <td>1.28</td>\n",
       "      <td>p00/</td>\n",
       "      <td>-999.0</td>\n",
       "      <td>-999.0</td>\n",
       "      <td>-999.0</td>\n",
       "      <td>N/A</td>\n",
       "      <td>-999.0</td>\n",
       "      <td>-999.0</td>\n",
       "      <td>-999.0</td>\n",
       "      <td>-999.0</td>\n",
       "      <td>-999.0</td>\n",
       "    </tr>\n",
       "    <tr>\n",
       "      <th>26991</th>\n",
       "      <td>/Users/litz/Documents/GitHub/data/kepler-sg-gr...</td>\n",
       "      <td>1.28</td>\n",
       "      <td>p00/</td>\n",
       "      <td>-999.0</td>\n",
       "      <td>-999.0</td>\n",
       "      <td>-999.0</td>\n",
       "      <td>N/A</td>\n",
       "      <td>-999.0</td>\n",
       "      <td>-999.0</td>\n",
       "      <td>-999.0</td>\n",
       "      <td>-999.0</td>\n",
       "      <td>-999.0</td>\n",
       "    </tr>\n",
       "    <tr>\n",
       "      <th>26992</th>\n",
       "      <td>/Users/litz/Documents/GitHub/data/kepler-sg-gr...</td>\n",
       "      <td>1.28</td>\n",
       "      <td>p00/</td>\n",
       "      <td>-999.0</td>\n",
       "      <td>-999.0</td>\n",
       "      <td>-999.0</td>\n",
       "      <td>N/A</td>\n",
       "      <td>-999.0</td>\n",
       "      <td>-999.0</td>\n",
       "      <td>-999.0</td>\n",
       "      <td>-999.0</td>\n",
       "      <td>-999.0</td>\n",
       "    </tr>\n",
       "  </tbody>\n",
       "</table>\n",
       "<p>26993 rows × 12 columns</p>\n",
       "</div>"
      ],
      "text/plain": [
       "                                                filename  mass   feh  \\\n",
       "0      /Users/litz/Documents/GitHub/data/kepler-sg-gr...  1.09  p00/   \n",
       "1      /Users/litz/Documents/GitHub/data/kepler-sg-gr...  1.09  p00/   \n",
       "2      /Users/litz/Documents/GitHub/data/kepler-sg-gr...  1.09  p00/   \n",
       "3      /Users/litz/Documents/GitHub/data/kepler-sg-gr...  1.09  p00/   \n",
       "4      /Users/litz/Documents/GitHub/data/kepler-sg-gr...  1.09  p00/   \n",
       "...                                                  ...   ...   ...   \n",
       "26988  /Users/litz/Documents/GitHub/data/kepler-sg-gr...  1.28  p00/   \n",
       "26989  /Users/litz/Documents/GitHub/data/kepler-sg-gr...  1.28  p00/   \n",
       "26990  /Users/litz/Documents/GitHub/data/kepler-sg-gr...  1.28  p00/   \n",
       "26991  /Users/litz/Documents/GitHub/data/kepler-sg-gr...  1.28  p00/   \n",
       "26992  /Users/litz/Documents/GitHub/data/kepler-sg-gr...  1.28  p00/   \n",
       "\n",
       "       delta_nu  surf_a  surf_b sc_method   lk_0   lk_1   lk_2  lkall  wlkall  \n",
       "0        -999.0  -999.0  -999.0       N/A -999.0 -999.0 -999.0 -999.0  -999.0  \n",
       "1        -999.0  -999.0  -999.0       N/A -999.0 -999.0 -999.0 -999.0  -999.0  \n",
       "2        -999.0  -999.0  -999.0       N/A -999.0 -999.0 -999.0 -999.0  -999.0  \n",
       "3        -999.0  -999.0  -999.0       N/A -999.0 -999.0 -999.0 -999.0  -999.0  \n",
       "4        -999.0  -999.0  -999.0       N/A -999.0 -999.0 -999.0 -999.0  -999.0  \n",
       "...         ...     ...     ...       ...    ...    ...    ...    ...     ...  \n",
       "26988    -999.0  -999.0  -999.0       N/A -999.0 -999.0 -999.0 -999.0  -999.0  \n",
       "26989    -999.0  -999.0  -999.0       N/A -999.0 -999.0 -999.0 -999.0  -999.0  \n",
       "26990    -999.0  -999.0  -999.0       N/A -999.0 -999.0 -999.0 -999.0  -999.0  \n",
       "26991    -999.0  -999.0  -999.0       N/A -999.0 -999.0 -999.0 -999.0  -999.0  \n",
       "26992    -999.0  -999.0  -999.0       N/A -999.0 -999.0 -999.0 -999.0  -999.0  \n",
       "\n",
       "[26993 rows x 12 columns]"
      ]
     },
     "execution_count": 25,
     "metadata": {},
     "output_type": "execute_result"
    }
   ],
   "source": [
    "starset = pd.DataFrame(data = allfiles, columns = ['filename'])\n",
    "starset['mass'] = starset['filename'].str.extract(r'(\\d+.\\d+)').astype('float')\n",
    "starset['feh'] = zx\n",
    "starset['delta_nu'] = -999.0\n",
    "starset['surf_a'] = -999.0\n",
    "starset['surf_b'] = -999.0\n",
    "starset['sc_method'] = 'N/A'\n",
    "starset['lk_0'] = -999.0\n",
    "starset['lk_1'] = -999.0\n",
    "starset['lk_2'] = -999.0\n",
    "starset['lkall'] = -999.0\n",
    "starset['wlkall'] = -999.0\n",
    "starset"
   ]
  },
  {
   "cell_type": "code",
   "execution_count": 26,
   "metadata": {},
   "outputs": [],
   "source": [
    "def linear(x, a, b):\n",
    "    return a * x + b\n",
    "\n",
    "def ball_two_term(X, a1, a3):\n",
    "    nu0, nu, inertia = X\n",
    "    return nu0 + (a1*nu**(-1.0) + a3*nu**3.0)/inertia\n",
    "    \n",
    "    \n",
    "def kb95(X, a, b):\n",
    "    x1, x2 = X\n",
    "    return x1 - a*x2**b\n",
    "\n",
    "def surface_correction(obs_freq, obs_freq_e, model_freq, model_inertia, nu_max, sc_method):\n",
    "    if (sc_method == 'kb95'):\n",
    "        #kb 95 nu_obs - nu_model = a*(nu_obs/nu_max)**b        \n",
    "        popt, pcov = curve_fit(kb95, (obs_freq, obs_freq/nu_max), model_freq)\n",
    "        a, b = popt\n",
    "        a_e, b_e = pcov\n",
    "    if (sc_method == 'bg2'):\n",
    "        #Ball&Gizon 2 terms: obs - model = (a1*(nu/nu_ac)**(-1) + a3*(nu/nu_ac)**(3))/inertia\n",
    "        # model = obs - (a1*(nu/nu_ac)**(-1) + a3*(nu/nu_ac)**(3))/inertia\n",
    "        popt, pcov = curve_fit(ball_two_term, (model_freq, model_freq/1.6/nu_max, model_inertia), obs_freq, sigma = obs_freq_e)\n",
    "        a, b = popt\n",
    "        a_e, b_e = pcov\n",
    "        model_freq_c = ball_two_term((model_freq,model_freq/1.6/nu_max, model_inertia), a, b)\n",
    "    return a, b, model_freq_c  \n",
    "\n",
    "def correct_sc(obs_freq, mode_freq, nu_max, sc_method, a, b):\n",
    "    if (sc_method == 'kb95'):\n",
    "        new_mode_freq = mode_freq + a*(mode_freq/nu_max)**b\n",
    "    return new_mode_freq\n",
    "\n",
    "def seismo_lk(obs_freq,obs_freq_e,mode_freq, n):\n",
    "    chi2 = np.mean(1.0/n*((obs_freq - mode_freq)**2.0/2.0/obs_freq_e**2.0))\n",
    "    lk = math.exp(0.0 - chi2)\n",
    "    return lk\n",
    "\n",
    "def chi2(model, obs, obs_e):\n",
    "    chi2 = (model - obs)**2.0/2.0/obs_e**2.0\n",
    "    return chi2\n",
    "\n",
    "def fit_two_sets(obs, obs_e, model, model_x = None):\n",
    "    find_model = np.full(len(obs), 0.0)\n",
    "    find_model_x = np.full(len(obs), 0.0)\n",
    "    chi2_obs = np.full(len(obs), 9999.0)\n",
    "    for i in range(len(obs)):\n",
    "        nuse = np.argmin(np.abs(model - obs[i]))\n",
    "        find_model[i] = model[nuse]\n",
    "        find_model_x[i] = model_x[nuse]\n",
    "        chi2_obs[i] = chi2(model[nuse], obs[i], obs_e[i])\n",
    "    return find_model, find_model_x, chi2_obs\n",
    "\n",
    "def prob(para, lk, start, end, binsize, shift):\n",
    "    n = int((end - start + shift)/binsize)\n",
    "    x = np.zeros(n)\n",
    "    y = np.zeros(n)\n",
    "    for i in range(n):\n",
    "        x[i] = start + shift + i*binsize + 0.5*binsize\n",
    "        yindex = np.where((para >= (start + shift + i*binsize)) &\n",
    "                          (para < (start + shift + (i+1)*binsize))\n",
    "                         )\n",
    "        yyy = yindex[0]\n",
    "        if (len(yyy) > 0):\n",
    "            y[i] = np.max(lk[yyy])\n",
    "    return x, y"
   ]
  },
  {
   "cell_type": "code",
   "execution_count": null,
   "metadata": {},
   "outputs": [],
   "source": []
  },
  {
   "cell_type": "code",
   "execution_count": 27,
   "metadata": {},
   "outputs": [
    {
     "data": {
      "text/plain": [
       "18632"
      ]
     },
     "execution_count": 27,
     "metadata": {},
     "output_type": "execute_result"
    }
   ],
   "source": [
    "t = 0\n",
    "for index, row in starset.iterrows():\n",
    "    oscfile = row['filename']\n",
    "    if os.path.isfile(oscfile):\n",
    "        model_l, model_np, model_ng, model_nu,model_E_norm = np.loadtxt(oscfile, skiprows=6, usecols=(0,1,2,3,5), unpack=True)\n",
    "        fitn0 = np.array(model_np[(model_l == 0) & (model_nu >= 0.5*obs_numax) & (model_nu <= 0.95*obs_numax)])\n",
    "        fitnu0 = np.array(model_nu[(model_l == 0) & (model_nu >= 0.5*obs_numax) & (model_nu <= 0.95*obs_numax)])\n",
    "        \n",
    "        if len(fitn0)>=3:\n",
    "            popt, pcov = curve_fit(linear, fitn0, fitnu0)\n",
    "            starset.loc[index, ('delta_nu')] = popt[0]\n",
    "            t = t+1\n",
    "        #get_model_delta_nu()        \n",
    "        #model_nu0 = np.array(model_nu[(model_l == 0)])\n",
    "        #model_nu_c = correct_sc(obs_nu0, model_nu0, obs_numax, 'kb95', row['surf_a'], row['surf_b'])\n",
    "        #model_nu_f, starset_seismo['lk_l1'][index] = fit_two_sets(obs_nu1, obs_nu1_e, model_nu1_c)\n",
    "t"
   ]
  },
  {
   "cell_type": "code",
   "execution_count": 55,
   "metadata": {},
   "outputs": [
    {
     "data": {
      "text/plain": [
       "2884"
      ]
     },
     "execution_count": 55,
     "metadata": {},
     "output_type": "execute_result"
    }
   ],
   "source": [
    "idex = (starset['delta_nu'] >= 0.7*obs_deltanu) & (starset['delta_nu'] <= 1.10*obs_deltanu)\n",
    "seismoset = starset[idex]\n",
    "seismoset.index = range(len(seismoset))\n",
    "len(seismoset)"
   ]
  },
  {
   "cell_type": "code",
   "execution_count": 58,
   "metadata": {
    "scrolled": false
   },
   "outputs": [
    {
     "name": "stderr",
     "output_type": "stream",
     "text": [
      "/opt/anaconda3/lib/python3.7/site-packages/pandas/core/indexing.py:966: SettingWithCopyWarning: \n",
      "A value is trying to be set on a copy of a slice from a DataFrame.\n",
      "Try using .loc[row_indexer,col_indexer] = value instead\n",
      "\n",
      "See the caveats in the documentation: https://pandas.pydata.org/pandas-docs/stable/user_guide/indexing.html#returning-a-view-versus-a-copy\n",
      "  self.obj[item] = s\n"
     ]
    },
    {
     "name": "stdout",
     "output_type": "stream",
     "text": [
      "2884\n"
     ]
    },
    {
     "data": {
      "text/html": [
       "<div>\n",
       "<style scoped>\n",
       "    .dataframe tbody tr th:only-of-type {\n",
       "        vertical-align: middle;\n",
       "    }\n",
       "\n",
       "    .dataframe tbody tr th {\n",
       "        vertical-align: top;\n",
       "    }\n",
       "\n",
       "    .dataframe thead th {\n",
       "        text-align: right;\n",
       "    }\n",
       "</style>\n",
       "<table border=\"1\" class=\"dataframe\">\n",
       "  <thead>\n",
       "    <tr style=\"text-align: right;\">\n",
       "      <th></th>\n",
       "      <th>filename</th>\n",
       "      <th>mass</th>\n",
       "      <th>feh</th>\n",
       "      <th>delta_nu</th>\n",
       "      <th>surf_a</th>\n",
       "      <th>surf_b</th>\n",
       "      <th>sc_method</th>\n",
       "      <th>lk_0</th>\n",
       "      <th>lk_1</th>\n",
       "      <th>lk_2</th>\n",
       "      <th>lkall</th>\n",
       "      <th>wlkall</th>\n",
       "      <th>lk</th>\n",
       "    </tr>\n",
       "  </thead>\n",
       "  <tbody>\n",
       "    <tr>\n",
       "      <th>0</th>\n",
       "      <td>/Users/litz/Documents/GitHub/data/kepler-sg-gr...</td>\n",
       "      <td>1.09</td>\n",
       "      <td>p00/</td>\n",
       "      <td>26.671687</td>\n",
       "      <td>-7.296514e-10</td>\n",
       "      <td>1.920975e-09</td>\n",
       "      <td>bg2</td>\n",
       "      <td>0.0</td>\n",
       "      <td>0.0</td>\n",
       "      <td>1.468580e-07</td>\n",
       "      <td>-999.0</td>\n",
       "      <td>-999.0</td>\n",
       "      <td>7.739930e-12</td>\n",
       "    </tr>\n",
       "    <tr>\n",
       "      <th>1</th>\n",
       "      <td>/Users/litz/Documents/GitHub/data/kepler-sg-gr...</td>\n",
       "      <td>1.09</td>\n",
       "      <td>p00/</td>\n",
       "      <td>28.463295</td>\n",
       "      <td>-1.752611e-08</td>\n",
       "      <td>7.745412e-08</td>\n",
       "      <td>bg2</td>\n",
       "      <td>0.0</td>\n",
       "      <td>0.0</td>\n",
       "      <td>1.478416e-17</td>\n",
       "      <td>-999.0</td>\n",
       "      <td>-999.0</td>\n",
       "      <td>1.550027e-21</td>\n",
       "    </tr>\n",
       "    <tr>\n",
       "      <th>2</th>\n",
       "      <td>/Users/litz/Documents/GitHub/data/kepler-sg-gr...</td>\n",
       "      <td>1.09</td>\n",
       "      <td>p00/</td>\n",
       "      <td>27.808786</td>\n",
       "      <td>5.512147e-09</td>\n",
       "      <td>-2.283916e-08</td>\n",
       "      <td>bg2</td>\n",
       "      <td>0.0</td>\n",
       "      <td>0.0</td>\n",
       "      <td>1.059492e-13</td>\n",
       "      <td>-999.0</td>\n",
       "      <td>-999.0</td>\n",
       "      <td>1.240177e-20</td>\n",
       "    </tr>\n",
       "    <tr>\n",
       "      <th>3</th>\n",
       "      <td>/Users/litz/Documents/GitHub/data/kepler-sg-gr...</td>\n",
       "      <td>1.09</td>\n",
       "      <td>p00/</td>\n",
       "      <td>28.331178</td>\n",
       "      <td>-1.347715e-08</td>\n",
       "      <td>6.413196e-08</td>\n",
       "      <td>bg2</td>\n",
       "      <td>0.0</td>\n",
       "      <td>0.0</td>\n",
       "      <td>3.180266e-16</td>\n",
       "      <td>-999.0</td>\n",
       "      <td>-999.0</td>\n",
       "      <td>8.250973e-21</td>\n",
       "    </tr>\n",
       "    <tr>\n",
       "      <th>4</th>\n",
       "      <td>/Users/litz/Documents/GitHub/data/kepler-sg-gr...</td>\n",
       "      <td>1.09</td>\n",
       "      <td>p00/</td>\n",
       "      <td>25.854999</td>\n",
       "      <td>2.771283e-10</td>\n",
       "      <td>-1.160550e-09</td>\n",
       "      <td>bg2</td>\n",
       "      <td>0.0</td>\n",
       "      <td>0.0</td>\n",
       "      <td>1.183682e-14</td>\n",
       "      <td>-999.0</td>\n",
       "      <td>-999.0</td>\n",
       "      <td>6.052081e-19</td>\n",
       "    </tr>\n",
       "  </tbody>\n",
       "</table>\n",
       "</div>"
      ],
      "text/plain": [
       "                                            filename  mass   feh   delta_nu  \\\n",
       "0  /Users/litz/Documents/GitHub/data/kepler-sg-gr...  1.09  p00/  26.671687   \n",
       "1  /Users/litz/Documents/GitHub/data/kepler-sg-gr...  1.09  p00/  28.463295   \n",
       "2  /Users/litz/Documents/GitHub/data/kepler-sg-gr...  1.09  p00/  27.808786   \n",
       "3  /Users/litz/Documents/GitHub/data/kepler-sg-gr...  1.09  p00/  28.331178   \n",
       "4  /Users/litz/Documents/GitHub/data/kepler-sg-gr...  1.09  p00/  25.854999   \n",
       "\n",
       "         surf_a        surf_b sc_method  lk_0  lk_1          lk_2  lkall  \\\n",
       "0 -7.296514e-10  1.920975e-09       bg2   0.0   0.0  1.468580e-07 -999.0   \n",
       "1 -1.752611e-08  7.745412e-08       bg2   0.0   0.0  1.478416e-17 -999.0   \n",
       "2  5.512147e-09 -2.283916e-08       bg2   0.0   0.0  1.059492e-13 -999.0   \n",
       "3 -1.347715e-08  6.413196e-08       bg2   0.0   0.0  3.180266e-16 -999.0   \n",
       "4  2.771283e-10 -1.160550e-09       bg2   0.0   0.0  1.183682e-14 -999.0   \n",
       "\n",
       "   wlkall            lk  \n",
       "0  -999.0  7.739930e-12  \n",
       "1  -999.0  1.550027e-21  \n",
       "2  -999.0  1.240177e-20  \n",
       "3  -999.0  8.250973e-21  \n",
       "4  -999.0  6.052081e-19  "
      ]
     },
     "execution_count": 58,
     "metadata": {},
     "output_type": "execute_result"
    },
    {
     "data": {
      "image/png": "[encoded data removed]",
      "text/plain": [
       "<Figure size 432x360 with 1 Axes>"
      ]
     },
     "metadata": {
      "needs_background": "light"
     },
     "output_type": "display_data"
    }
   ],
   "source": [
    "obs_nu_es = obs_nu_e + 0.5\n",
    "\n",
    "t = 0\n",
    "for index, row in seismoset.iterrows():\n",
    "    oscfile = row['filename']\n",
    "    if os.path.isfile(oscfile):\n",
    "        t = t + 1\n",
    "        model_l, model_np, model_ng, model_nu,model_E_norm = np.loadtxt(oscfile, skiprows=6, usecols=(0,1,2,3,5), unpack=True)\n",
    "        \n",
    "        model_nu0 = np.array(model_nu[(model_l == 0)])\n",
    "        model_E0 = np.array(model_E_norm[(model_l == 0)])\n",
    "        model_nu1 = np.array(model_nu[(model_l == 1)])\n",
    "        model_E1 = np.array(model_E_norm[(model_l == 1)])\n",
    "        model_nu2 = np.array(model_nu[(model_l == 2)])\n",
    "        model_E2 = np.array(model_E_norm[(model_l == 2)])\n",
    "        \n",
    "        find_nu0, find_E0, lk0 = fit_two_sets(obs_nu0, obs_nu0_e, model_nu0, model_E0)\n",
    "        find_nu1, find_E1, lk1 = fit_two_sets(obs_nu1, obs_nu1_e, model_nu1, model_E1)\n",
    "        find_nu2, find_E2, lk2 = fit_two_sets(obs_nu2, obs_nu2_e, model_nu2, model_E2)\n",
    "\n",
    "        find_nu = np.concatenate((find_nu0, find_nu1, find_nu2))\n",
    "        find_E = np.concatenate((find_E0, find_E1, find_E2))\n",
    "            \n",
    "        a1, a3, find_nu_c = surface_correction(obs_nu, obs_nu_es, find_nu, find_E, obs_numax, 'bg2')\n",
    "        \n",
    "        tt0, tt1, lkall = fit_two_sets(obs_nu, obs_nu_es, find_nu_c, find_E)\n",
    "        \n",
    "        SS = 0.67*(np.max(obs_nu) - np.min(obs_nu))/2.0\n",
    "        PP = 2.0\n",
    "\n",
    "        wi = np.exp(-((obs_nu - obs_numax)**2.0/2.0/SS**2.0)**PP)\n",
    "                \n",
    "        seismoset.loc[index, ('surf_a')] = a1\n",
    "        seismoset.loc[index, ('surf_b')] = a3\n",
    "        seismoset.loc[index, ('lk')] = np.exp(-np.mean(lkall))\n",
    "        \n",
    "        seismoset.loc[index, ('lk_0')] = 0.0\n",
    "        seismoset.loc[index, ('lk_1')] = 0.0\n",
    "        seismoset.loc[index, ('lk_2')] = np.exp(-np.mean(wi*lkall))\n",
    "        \n",
    "        seismoset.loc[index, ('sc_method')] = 'bg2'\n",
    "\n",
    "plt.scatter(seismoset['mass'],seismoset['lk'], c = 'b')\n",
    "plt.scatter(seismoset['mass'],seismoset['lk_2'],c = 'r')\n",
    "plt.xlim([1.0,1.30])\n",
    "print(t)\n",
    "seismoset.head()"
   ]
  },
  {
   "cell_type": "code",
   "execution_count": 59,
   "metadata": {},
   "outputs": [
    {
     "data": {
      "text/plain": [
       "<matplotlib.collections.PathCollection at 0x1a25202cd0>"
      ]
     },
     "execution_count": 59,
     "metadata": {},
     "output_type": "execute_result"
    },
    {
     "data": {
      "image/png": "[encoded data removed]",
      "text/plain": [
       "<Figure size 432x360 with 1 Axes>"
      ]
     },
     "metadata": {
      "needs_background": "light"
     },
     "output_type": "display_data"
    }
   ],
   "source": [
    "plt.scatter(seismoset['delta_nu'],seismoset['lk'], c = 'b')\n",
    "plt.scatter(seismoset['delta_nu'],seismoset['lk_2'],c = 'r')"
   ]
  },
  {
   "cell_type": "code",
   "execution_count": 60,
   "metadata": {},
   "outputs": [
    {
     "name": "stdout",
     "output_type": "stream",
     "text": [
      "277\n"
     ]
    }
   ],
   "source": [
    "goodset = seismoset[(seismoset['lk']>0.001)]\n",
    "goodset.index = range(len(goodset))\n",
    "#goodset['lk_2'][np.argmax(goodset['lk_2'])] = 0.2\n",
    "#goodset['lk'][np.argmax(goodset['lk'])] = 0.25\n",
    "\n",
    "print(len(goodset))\n",
    "\n",
    "#plt.scatter(goodset['mass'],goodset['lk'], c = 'b', marker = 'x', label = 'Unweighted $\\chi^{2}_{seismo}$')\n",
    "#plt.scatter(goodset['mass'],goodset['lk_2'],c = 'r', marker = 'o', label = 'Weighted $\\chi^{2}_{seismo}$')\n",
    "#plt.xlim([1.10,1.30])\n",
    "#plt.ylabel(r'Seismic Likelihood ($e^{-\\chi^{2}_{seismo}}$)')\n",
    "#plt.xlabel(r'Mass (M$_{\\odot}$)')\n",
    "#plt.legend()\n",
    "#plt.title('Top 50 good-fitting models for KIC'+ str(KIC))"
   ]
  },
  {
   "cell_type": "code",
   "execution_count": 68,
   "metadata": {},
   "outputs": [
    {
     "data": {
      "text/plain": [
       "[Text(0, 0, '0.0'),\n",
       " Text(0, 0, '0.2'),\n",
       " Text(0, 0, '0.4'),\n",
       " Text(0, 0, '0.6'),\n",
       " Text(0, 0, '0.8'),\n",
       " Text(0, 0, '1.0')]"
      ]
     },
     "execution_count": 68,
     "metadata": {},
     "output_type": "execute_result"
    },
    {
     "data": {
      "image/png": "[encoded data removed]",
      "text/plain": [
       "<Figure size 432x360 with 1 Axes>"
      ]
     },
     "metadata": {
      "needs_background": "light"
     },
     "output_type": "display_data"
    }
   ],
   "source": [
    "px1, py1 = prob(goodset['mass'], goodset['lk'], 1.005, 1.305, 0.01, 0.0)\n",
    "px2, py2 = prob(goodset['mass'], goodset['lk_2'], 1.005, 1.305, 0.01, 0.0)\n",
    "\n",
    "#py1[3] = 0.9*py1[3]\n",
    "#py2[3] = 0.9*py2[3]\n",
    "\n",
    "pxs1 = []\n",
    "pys1 = []\n",
    "pxs2 = []\n",
    "pys2 = []\n",
    "for i in range(len(px1)):\n",
    "    nn1 = int(py1[i]/np.max(py1)*1000)\n",
    "    nn2 = int(py2[i]/np.max(py2)*1000)\n",
    "    pxs1 = pxs1 + [px1[i]]*nn1\n",
    "    pxs2 = pxs2 + [px2[i]]*nn2\n",
    "\n",
    "#plt.scatter(px1, py1, label='Unweighted $\\chi^{2}_{seismo}$')\n",
    "#plt.scatter(px2, py2, label='Weighted $\\chi^{2}_{seismo}$')\n",
    "fig, ax = plt.subplots()\n",
    "n, bins, patches = ax.hist([pxs1, pxs2], bins = 30, range=[1.005,1.295], label=['Unweighted $\\chi^{2}_{seismo}$', 'Weighted $\\chi^{2}_{seismo}$'])\n",
    "plt.legend(loc='upper left',frameon=False)\n",
    "\n",
    "#plt.scatter(px1, py1/np.max(py1), c = 'b',label='unweighted')\n",
    "#plt.plot(px1, py1/np.max(py1), c = 'b',label='unweighted')\n",
    "#plt.scatter(px2, py2/np.max(py2), c = 'r',label='weighted')\n",
    "#plt.plot(px2, py2/np.max(py2), c = 'r',label='weighted')\n",
    "\n",
    "\n",
    "#plt.legend()\n",
    "\n",
    "#plt.title(r' ')\n",
    "plt.xlabel('Mass')\n",
    "plt.ylabel('Normalized seismic likelihood')\n",
    "plt.ylim(0.0,1280)\n",
    "plt.xlim(1.0,1.3)\n",
    "ax.set_yticks([0,200,400,600,800,1000])\n",
    "ax.set_yticklabels(['0.0','0.2','0.4','0.6','0.8','1.0'])\n",
    "#popt,pcov = curve_fit(gaus,px,py)\n",
    "#plt.plot(px,'ro:',label='fit')"
   ]
  },
  {
   "cell_type": "code",
   "execution_count": 73,
   "metadata": {},
   "outputs": [
    {
     "data": {
      "text/plain": [
       "[Text(0, 0, '0.0'),\n",
       " Text(0, 0, '0.2'),\n",
       " Text(0, 0, '0.4'),\n",
       " Text(0, 0, '0.6'),\n",
       " Text(0, 0, '0.8'),\n",
       " Text(0, 0, '1.0')]"
      ]
     },
     "execution_count": 73,
     "metadata": {},
     "output_type": "execute_result"
    },
    {
     "data": {
      "image/png": "[encoded data removed]",
      "text/plain": [
       "<Figure size 432x360 with 1 Axes>"
      ]
     },
     "metadata": {
      "needs_background": "light"
     },
     "output_type": "display_data"
    }
   ],
   "source": [
    "start = 28\n",
    "end = 36\n",
    "size = 0.1\n",
    "\n",
    "\n",
    "nbins = int((end - start)/size)\n",
    "\n",
    "px1, py1 = prob(goodset['delta_nu'], goodset['lk'], start, end, size, 0.0)\n",
    "px2, py2 = prob(goodset['delta_nu'], goodset['lk_2'], start, end, size, 0.0)\n",
    "\n",
    "\n",
    "#py1[3] = 0.9*py1[3]\n",
    "#py2[3] = 0.9*py2[3]\n",
    "\n",
    "pxs1 = []\n",
    "pys1 = []\n",
    "pxs2 = []\n",
    "pys2 = []\n",
    "for i in range(len(px1)):\n",
    "    nn1 = int(py1[i]/np.max(py1)*1000)\n",
    "    nn2 = int(py2[i]/np.max(py2)*1000)\n",
    "    pxs1 = pxs1 + [px1[i]]*nn1\n",
    "    pxs2 = pxs2 + [px2[i]]*nn2\n",
    "\n",
    "#plt.scatter(px1, py1, label='Unweighted $\\chi^{2}_{seismo}$')\n",
    "#plt.scatter(px2, py2, label='Weighted $\\chi^{2}_{seismo}$')\n",
    "fig, ax = plt.subplots()\n",
    "n, bins, patches = ax.hist([pxs1, pxs2], bins = nbins, range=[start, end], label=['Unweighted $\\chi^{2}_{seismo}$', 'Weighted $\\chi^{2}_{seismo}$'])\n",
    "plt.legend(loc='upper left',frameon=False)\n",
    "\n",
    "#plt.scatter(px1, py1/np.max(py1), c = 'b',label='unweighted')\n",
    "#plt.plot(px1, py1/np.max(py1), c = 'b',label='unweighted')\n",
    "#plt.scatter(px2, py2/np.max(py2), c = 'r',label='weighted')\n",
    "#plt.plot(px2, py2/np.max(py2), c = 'r',label='weighted')\n",
    "\n",
    "XX = np.array(bins[0:(len(bins)-1)] + 0.5*size)\n",
    "YY = n[0]\n",
    "def gaussian_function(x, amp, mu, sigma):\n",
    "    y = amp*1.0/sigma/(2.0*3.14159)**0.5*np.exp(-0.5*((x-mu)/sigma)**2.0)  #amp*1.0/sigma/(2.0*3.14159)**0.5*np.exp(-0.5*((x-mu)/sigma)**2.0)\n",
    "    return y\n",
    "\n",
    "popt, pcov = curve_fit(gaussian_function, XX, YY, p0=[200,obs_deltanu, 0.2])\n",
    "amp, mu, sigma = popt\n",
    "\n",
    "gx = np.linspace(start, end, 100)\n",
    "gy = gaussian_function(gx, amp, mu, sigma)\n",
    "plt.plot(gx, gy, 'b')\n",
    "\n",
    "\n",
    "XX = np.array(bins[0:(len(bins)-1)] + 0.5*size)\n",
    "YY = n[1]\n",
    "popt, pcov = curve_fit(gaussian_function, XX, YY, p0=[200,obs_deltanu, 0.2])\n",
    "amp, mu, sigma = popt\n",
    "\n",
    "gx = np.linspace(start, end, 100)\n",
    "gy = gaussian_function(gx, amp, mu, sigma)\n",
    "plt.plot(gx, gy, 'orange')\n",
    "\n",
    "\n",
    "#plt.legend()\n",
    "\n",
    "#plt.title(r' ')\n",
    "plt.xlabel(r'$\\Delta\\nu$ ($\\mu$Hz)')\n",
    "plt.ylabel('Normalized seismic likelihood')\n",
    "plt.ylim(0.0,1180)\n",
    "ax.set_title('K2-'+ str(K2id))\n",
    "#plt.xlim(0.9,1.28)\n",
    "#ax.set_xticks([1.10,1.12, 1.14,1.16,1.18,1.20,1.22,1.24,1.26,1.28])\n",
    "ax.set_yticks([0,200,400,600,800,1000])\n",
    "ax.set_yticklabels(['0.0','0.2','0.4','0.6','0.8','1.0'])\n",
    "#popt,pcov = curve_fit(gaus,px,py)\n",
    "#plt.plot(px,'ro:',label='fit')"
   ]
  },
  {
   "cell_type": "code",
   "execution_count": 74,
   "metadata": {},
   "outputs": [],
   "source": [
    "nbest = np.argmax(seismoset['lk'])\n",
    "nbest2 = np.argmax(seismoset['lk_2']) \n",
    "subdf1 = goodset[((goodset['lk_2']/np.max(goodset['lk_2']))>0.1) ]\n",
    "subdf1.index = range(len(subdf1))"
   ]
  },
  {
   "cell_type": "code",
   "execution_count": 76,
   "metadata": {
    "scrolled": false
   },
   "outputs": [
    {
     "ename": "NameError",
     "evalue": "name 'KIC' is not defined",
     "output_type": "error",
     "traceback": [
      "\u001b[0;31m---------------------------------------------------------------------------\u001b[0m",
      "\u001b[0;31mNameError\u001b[0m                                 Traceback (most recent call last)",
      "\u001b[0;32m<ipython-input-76-09e1014160aa>\u001b[0m in \u001b[0;36m<module>\u001b[0;34m\u001b[0m\n\u001b[1;32m     63\u001b[0m \u001b[0max1\u001b[0m\u001b[0;34m.\u001b[0m\u001b[0mset_ylabel\u001b[0m\u001b[0;34m(\u001b[0m\u001b[0;34mr'$\\nu$ ($\\mu$Hz)'\u001b[0m\u001b[0;34m)\u001b[0m\u001b[0;34m\u001b[0m\u001b[0;34m\u001b[0m\u001b[0m\n\u001b[1;32m     64\u001b[0m \u001b[0max1\u001b[0m\u001b[0;34m.\u001b[0m\u001b[0mset_ylim\u001b[0m\u001b[0;34m(\u001b[0m\u001b[0;34m[\u001b[0m\u001b[0;36m500\u001b[0m\u001b[0;34m,\u001b[0m\u001b[0;36m1270\u001b[0m\u001b[0;34m]\u001b[0m\u001b[0;34m)\u001b[0m\u001b[0;34m\u001b[0m\u001b[0;34m\u001b[0m\u001b[0m\n\u001b[0;32m---> 65\u001b[0;31m \u001b[0max1\u001b[0m\u001b[0;34m.\u001b[0m\u001b[0mset_title\u001b[0m\u001b[0;34m(\u001b[0m\u001b[0;34m'Good-fitting models for KIC '\u001b[0m \u001b[0;34m+\u001b[0m \u001b[0mstr\u001b[0m\u001b[0;34m(\u001b[0m\u001b[0mKIC\u001b[0m\u001b[0;34m)\u001b[0m\u001b[0;34m)\u001b[0m\u001b[0;34m\u001b[0m\u001b[0;34m\u001b[0m\u001b[0m\n\u001b[0m\u001b[1;32m     66\u001b[0m \u001b[0max1\u001b[0m\u001b[0;34m.\u001b[0m\u001b[0mlegend\u001b[0m\u001b[0;34m(\u001b[0m\u001b[0mloc\u001b[0m\u001b[0;34m=\u001b[0m\u001b[0;34m'best'\u001b[0m\u001b[0;34m,\u001b[0m\u001b[0mframeon\u001b[0m\u001b[0;34m=\u001b[0m\u001b[0;32mFalse\u001b[0m\u001b[0;34m)\u001b[0m\u001b[0;34m\u001b[0m\u001b[0;34m\u001b[0m\u001b[0m\n\u001b[1;32m     67\u001b[0m \u001b[0max2\u001b[0m\u001b[0;34m.\u001b[0m\u001b[0mset_xlabel\u001b[0m\u001b[0;34m(\u001b[0m\u001b[0;34mr'$\\nu$ ($\\mu$Hz)'\u001b[0m\u001b[0;34m)\u001b[0m\u001b[0;34m\u001b[0m\u001b[0;34m\u001b[0m\u001b[0m\n",
      "\u001b[0;31mNameError\u001b[0m: name 'KIC' is not defined"
     ]
    },
    {
     "data": {
      "image/png": "[encoded data removed]",
      "text/plain": [
       "<Figure size 1440x576 with 3 Axes>"
      ]
     },
     "metadata": {
      "needs_background": "light"
     },
     "output_type": "display_data"
    }
   ],
   "source": [
    "#plt.scatter(obs_nu % obs_deltanu, obs_nu, c = 'k')\n",
    "\n",
    "fig, (ax1, ax2) = plt.subplots(1,2, figsize = (20,8))\n",
    "\n",
    "ax1.scatter((obs_nu - 10) % obs_deltanu, obs_nu, c = 'k', marker = 'o', label = 'Observed modes',s = 100)\n",
    "\n",
    "t = 0\n",
    "for index, row in subdf1.iterrows():\n",
    "    oscfile = row['filename']\n",
    "    if os.path.isfile(oscfile):\n",
    "        model_l, model_np, model_ng, model_nu,model_E_norm = np.loadtxt(oscfile, skiprows=6, usecols=(0,1,2,3,5), unpack=True)\n",
    "        model_nu0 = np.array(model_nu[(model_l == 0)])\n",
    "        model_E0 = np.array(model_E_norm[(model_l == 0)])\n",
    "        model_nu1 = np.array(model_nu[(model_l == 1)])\n",
    "        model_E1 = np.array(model_E_norm[(model_l == 1)])\n",
    "        model_nu2 = np.array(model_nu[(model_l == 2)])\n",
    "        model_E2 = np.array(model_E_norm[(model_l == 2)])\n",
    "        \n",
    "        find_nu0, find_E0, lk0 = fit_two_sets(obs_nu0, obs_nu0_e, model_nu0, model_E0)\n",
    "        find_nu1, find_E1, lk1 = fit_two_sets(obs_nu1, obs_nu1_e, model_nu1, model_E1)\n",
    "        find_nu2, find_E2, lk2 = fit_two_sets(obs_nu2, obs_nu2_e, model_nu2, model_E2)\n",
    "\n",
    "        find_nu = np.concatenate((find_nu0, find_nu1, find_nu2))\n",
    "        find_E = np.concatenate((find_E0, find_E1, find_E2))\n",
    "    \n",
    "        a1, a3, find_nu_c = surface_correction(obs_nu, obs_nu_es, find_nu, find_E, obs_numax, 'bg2')\n",
    "        \n",
    "        tt0, tt1, lk = fit_two_sets(obs_nu, obs_nu_es, find_nu_c, find_E)\n",
    "        lk1 = lk\n",
    "        \n",
    "        wi = np.exp(-((obs_nu - obs_numax)**2.0/2.0/SS**2.0)**PP)\n",
    "        lk2 = wi*lk\n",
    "        \n",
    "        #plt.scatter(find_nu_c % obs_deltanu, find_nu_c, c = 'b',s = 10)\n",
    "        if index == 1:\n",
    "            ax1.scatter((find_nu_c-10) % obs_deltanu, find_nu_c, facecolors='none', edgecolors='r', marker = 'o', label = 'Theoretical modes')\n",
    "            ax2.scatter(obs_nu, lk1, s = 50, facecolors='none', edgecolors='b', marker = 'o', label = 'Unweighted $\\chi^{2}_{seismo}$')\n",
    "            ax2.scatter(obs_nu, lk2,s = 50, facecolors='none', edgecolors='r', marker = 'o', label = 'Weighted $\\chi^{2}_{seismo}$')\n",
    "            ddd = np.abs(find_nu_c - obs_nu)\n",
    "        else:\n",
    "            ax1.scatter((find_nu_c-10) % obs_deltanu, find_nu_c, facecolors='none', edgecolors='r', marker = 'o')\n",
    "            ax2.scatter(obs_nu, lk1, s = 50, facecolors='none', edgecolors='b', marker = 'o')\n",
    "            ax2.scatter(obs_nu, lk2, s = 50, facecolors='none', edgecolors='r', marker = 'o')\n",
    "\n",
    "        t = t + 1\n",
    "        \n",
    "        #plt.scatter(find_nu_c % obs_deltanu, find_nu_c, c = 'r',s = 10)\n",
    "        #plt.scatter(obs_nu, lk2, c = 'r', s = 10)\n",
    "\n",
    "xxx = np.linspace(500,1400, 100)\n",
    "yyy = np.exp(-((xxx - obs_numax)**2.0/2.0/SS**2.0)**PP)\n",
    "\n",
    "ax3 = ax2.twinx()  # instantiate a second axes that shares the same x-axis\n",
    "\n",
    "color = 'green'\n",
    "ax3.set_ylabel(r'$w$', color=color)  # we already handled the x-label with ax1\n",
    "ax3.plot(xxx, yyy, 'g--', label = r'$w$', color=color)\n",
    "ax3.tick_params(axis='y', labelcolor=color)\n",
    "ax3.set_ylim([-0.04,2.0])\n",
    "        \n",
    "ax2.plot([obs_numax, obs_numax], [-1.0,100], 'k--', label = r'$\\nu_{\\rm max}$')        \n",
    "ax1.set_xlabel(r'$\\nu$ mod $\\Delta\\nu$ ($\\mu$Hz)')\n",
    "ax1.set_ylabel(r'$\\nu$ ($\\mu$Hz)')\n",
    "ax1.set_ylim([500,1270])\n",
    "ax1.set_title('Good-fitting models for K2-' + str(K2id))\n",
    "ax1.legend(loc='best',frameon=False)\n",
    "ax2.set_xlabel(r'$\\nu$ ($\\mu$Hz)')\n",
    "ax2.set_ylabel(r'$\\chi^{2}_{seismo}$')\n",
    "ax2.set_title('Good-fitting models for K2-' + str(K2id))\n",
    "ax2.set_ylim([-1.,50])\n",
    "ax2.set_xlim([520,1170])\n",
    "ax2.legend(loc='upper left',frameon=False)\n",
    "ax3.legend(loc=[0.02,0.73],frameon=False)\n",
    "t"
   ]
  },
  {
   "cell_type": "code",
   "execution_count": 998,
   "metadata": {},
   "outputs": [
    {
     "name": "stdout",
     "output_type": "stream",
     "text": [
      "0.2634108443477885\n"
     ]
    }
   ],
   "source": [
    "print(np.median(ddd))"
   ]
  },
  {
   "cell_type": "code",
   "execution_count": 965,
   "metadata": {},
   "outputs": [
    {
     "data": {
      "text/plain": [
       "Text(0, 0.5, '$\\\\sigma^{2}$/$\\\\sigma^{2}_{\\\\rm median}$')"
      ]
     },
     "execution_count": 965,
     "metadata": {},
     "output_type": "execute_result"
    },
    {
     "data": {
      "image/png": "[encoded data removed]",
      "text/plain": [
       "<Figure size 720x576 with 1 Axes>"
      ]
     },
     "metadata": {
      "needs_background": "light"
     },
     "output_type": "display_data"
    }
   ],
   "source": [
    "#add model systematical error\n",
    "\n",
    "\n",
    "plt.scatter(obs_nu0, obs_nu0_e**2/np.median(obs_nu0_e)**2,  c = 'k',marker='o', label = r'$\\sigma^{2}_{\\rm obs}$')\n",
    "plt.scatter(obs_nu0, obs_nu0_es**2/np.median(obs_nu0_es)**2,  c = 'r',marker='o', label = r'$\\sigma^{2}_{\\rm obs} + \\sigma^{2}_{\\rm sys}$')\n",
    "plt.scatter(obs_nu1, obs_nu1_e**2/np.median(obs_nu1_e)**2,  c = 'k',marker='^')\n",
    "plt.scatter(obs_nu1, obs_nu1_es**2/np.median(obs_nu1_es)**2,  c = 'r',marker='^')\n",
    "plt.scatter(obs_nu2, obs_nu2_e**2/np.median(obs_nu2_e)**2,  c = 'k',marker='s')\n",
    "plt.scatter(obs_nu2, obs_nu2_es**2/np.median(obs_nu0_es)**2,  c = 'r',marker='s')\n",
    "plt.legend()\n",
    "plt.yscale('linear')\n",
    "plt.title('KIC' + str(KIC))\n",
    "plt.xlabel(r'$\\nu$ ($\\mu$Hz)')\n",
    "plt.ylabel(r'$\\sigma^{2}$/$\\sigma^{2}_{\\rm median}$')"
   ]
  },
  {
   "cell_type": "markdown",
   "metadata": {},
   "source": [
    "# The above plot is to illustrate the change of relative weights (derived by $\\sigma^{2}$/$\\sigma^{2}_{\\rm min}$) of observed modes when a model systematical uncertainty ($\\sigma_{\\rm sys}$) is applied. At it can be seen that, the weights become much more uniform because  $\\sigma_{\\rm sys}$ dominates the term $\\sigma^{2}_{\\rm obs} + \\sigma^{2}_{\\rm sys}$. The relatively uniform weights lead to an issue that poor measured modes. "
   ]
  },
  {
   "cell_type": "markdown",
   "metadata": {},
   "source": [
    "# Now let us take one star KIC 2991448 to investigate the issue.  "
   ]
  },
  {
   "cell_type": "code",
   "execution_count": 190,
   "metadata": {},
   "outputs": [
    {
     "data": {
      "text/plain": [
       "47188"
      ]
     },
     "execution_count": 190,
     "metadata": {},
     "output_type": "execute_result"
    }
   ],
   "source": [
    "(1165+549+14275+2399+16734+5127+4882+2057)"
   ]
  },
  {
   "cell_type": "code",
   "execution_count": 342,
   "metadata": {},
   "outputs": [
    {
     "name": "stderr",
     "output_type": "stream",
     "text": [
      "/opt/anaconda3/lib/python3.7/site-packages/ipykernel_launcher.py:4: RuntimeWarning: divide by zero encountered in true_divide\n",
      "  after removing the cwd from sys.path.\n",
      "/opt/anaconda3/lib/python3.7/site-packages/ipykernel_launcher.py:4: RuntimeWarning: overflow encountered in true_divide\n",
      "  after removing the cwd from sys.path.\n"
     ]
    },
    {
     "data": {
      "text/plain": [
       "array([            inf,             inf,             inf, 1.48953698e+233,\n",
       "       1.00632914e+000, 5.14240159e+144,             inf,             inf,\n",
       "                   inf,             inf,             inf,             inf,\n",
       "                   inf, 7.02993994e+019, 7.91869332e+004,             inf,\n",
       "                   inf,             inf,             inf,             inf,\n",
       "       1.19987109e+000, 4.23461107e+099,             inf,             inf])"
      ]
     },
     "execution_count": 342,
     "metadata": {},
     "output_type": "execute_result"
    }
   ],
   "source": [
    "SS = 0.75*(np.max(obs_nu) - np.min(obs_nu))/2.0\n",
    "PP = 2.0\n",
    "\n",
    "wi = 1.0/np.exp(-((obs_nu - obs_numax)**2.0/SS**2.0)**PP)\n",
    "wi"
   ]
  },
  {
   "cell_type": "code",
   "execution_count": 359,
   "metadata": {},
   "outputs": [],
   "source": [
    "wi = 1.0/np.exp(-((obs_nu - obs_numax)**2.0/2.0/SS**2.0)**PP)"
   ]
  },
  {
   "cell_type": "code",
   "execution_count": 361,
   "metadata": {},
   "outputs": [
    {
     "data": {
      "text/plain": [
       "array([0.07516461, 0.04278827, 0.03429834, 0.03252881, 0.03239952,\n",
       "       0.0324797 , 0.03390277, 0.04114626, 0.12563137, 0.05551558,\n",
       "       0.03826186, 0.03396472, 0.03287986, 0.0324105 , 0.03240222,\n",
       "       0.03278685, 0.03597018, 0.04948008, 0.03479151, 0.03257676,\n",
       "       0.03239956, 0.0324547 , 0.03369827, 0.0400677 ])"
      ]
     },
     "execution_count": 361,
     "metadata": {},
     "output_type": "execute_result"
    }
   ],
   "source": [
    "wi/np.sum(wi)"
   ]
  },
  {
   "cell_type": "code",
   "execution_count": null,
   "metadata": {},
   "outputs": [],
   "source": [
    "(51.4/135.1)**2.0*2.06**3.0"
   ]
  },
  {
   "cell_type": "code",
   "execution_count": null,
   "metadata": {},
   "outputs": [],
   "source": []
  }
 ],
 "metadata": {
  "kernelspec": {
   "display_name": "Python 3",
   "language": "python",
   "name": "python3"
  },
  "language_info": {
   "codemirror_mode": {
    "name": "ipython",
    "version": 3
   },
   "file_extension": ".py",
   "mimetype": "text/x-python",
   "name": "python",
   "nbconvert_exporter": "python",
   "pygments_lexer": "ipython3",
   "version": "3.7.4"
  }
 },
 "nbformat": 4,
 "nbformat_minor": 4
}
